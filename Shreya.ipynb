{
 "cells": [
  {
   "cell_type": "markdown",
   "metadata": {},
   "source": [
    "# Final Project: Viz For Self"
   ]
  },
  {
   "cell_type": "markdown",
   "metadata": {},
   "source": [
    "Author: Shreya Udhani"
   ]
  },
  {
   "cell_type": "markdown",
   "metadata": {},
   "source": [
    "The dataset we have choose for our final Project is \"Pokemon with stats and types\". "
   ]
  },
  {
   "cell_type": "markdown",
   "metadata": {},
   "source": [
    "# Let us explore the data"
   ]
  },
  {
   "cell_type": "code",
   "execution_count": 6,
   "metadata": {},
   "outputs": [
    {
     "name": "stdout",
     "output_type": "stream",
     "text": [
      "       #                       Name    Type 1  Type 2  Total   HP  Attack  \\\n",
      "0      1                  Bulbasaur     Grass  Poison    318   45      49   \n",
      "1      2                    Ivysaur     Grass  Poison    405   60      62   \n",
      "2      3                   Venusaur     Grass  Poison    525   80      82   \n",
      "3      3      VenusaurMega Venusaur     Grass  Poison    625   80     100   \n",
      "4      4                 Charmander      Fire     NaN    309   39      52   \n",
      "5      5                 Charmeleon      Fire     NaN    405   58      64   \n",
      "6      6                  Charizard      Fire  Flying    534   78      84   \n",
      "7      6  CharizardMega Charizard X      Fire  Dragon    634   78     130   \n",
      "8      6  CharizardMega Charizard Y      Fire  Flying    634   78     104   \n",
      "9      7                   Squirtle     Water     NaN    314   44      48   \n",
      "10     8                  Wartortle     Water     NaN    405   59      63   \n",
      "11     9                  Blastoise     Water     NaN    530   79      83   \n",
      "12     9    BlastoiseMega Blastoise     Water     NaN    630   79     103   \n",
      "13    10                   Caterpie       Bug     NaN    195   45      30   \n",
      "14    11                    Metapod       Bug     NaN    205   50      20   \n",
      "15    12                 Butterfree       Bug  Flying    395   60      45   \n",
      "16    13                     Weedle       Bug  Poison    195   40      35   \n",
      "17    14                     Kakuna       Bug  Poison    205   45      25   \n",
      "18    15                   Beedrill       Bug  Poison    395   65      90   \n",
      "19    15      BeedrillMega Beedrill       Bug  Poison    495   65     150   \n",
      "20    16                     Pidgey    Normal  Flying    251   40      45   \n",
      "21    17                  Pidgeotto    Normal  Flying    349   63      60   \n",
      "22    18                    Pidgeot    Normal  Flying    479   83      80   \n",
      "23    18        PidgeotMega Pidgeot    Normal  Flying    579   83      80   \n",
      "24    19                    Rattata    Normal     NaN    253   30      56   \n",
      "25    20                   Raticate    Normal     NaN    413   55      81   \n",
      "26    21                    Spearow    Normal  Flying    262   40      60   \n",
      "27    22                     Fearow    Normal  Flying    442   65      90   \n",
      "28    23                      Ekans    Poison     NaN    288   35      60   \n",
      "29    24                      Arbok    Poison     NaN    438   60      85   \n",
      "..   ...                        ...       ...     ...    ...  ...     ...   \n",
      "770  700                    Sylveon     Fairy     NaN    525   95      65   \n",
      "771  701                   Hawlucha  Fighting  Flying    500   78      92   \n",
      "772  702                    Dedenne  Electric   Fairy    431   67      58   \n",
      "773  703                    Carbink      Rock   Fairy    500   50      50   \n",
      "774  704                      Goomy    Dragon     NaN    300   45      50   \n",
      "775  705                    Sliggoo    Dragon     NaN    452   68      75   \n",
      "776  706                     Goodra    Dragon     NaN    600   90     100   \n",
      "777  707                     Klefki     Steel   Fairy    470   57      80   \n",
      "778  708                   Phantump     Ghost   Grass    309   43      70   \n",
      "779  709                  Trevenant     Ghost   Grass    474   85     110   \n",
      "780  710      PumpkabooAverage Size     Ghost   Grass    335   49      66   \n",
      "781  710        PumpkabooSmall Size     Ghost   Grass    335   44      66   \n",
      "782  710        PumpkabooLarge Size     Ghost   Grass    335   54      66   \n",
      "783  710        PumpkabooSuper Size     Ghost   Grass    335   59      66   \n",
      "784  711      GourgeistAverage Size     Ghost   Grass    494   65      90   \n",
      "785  711        GourgeistSmall Size     Ghost   Grass    494   55      85   \n",
      "786  711        GourgeistLarge Size     Ghost   Grass    494   75      95   \n",
      "787  711        GourgeistSuper Size     Ghost   Grass    494   85     100   \n",
      "788  712                   Bergmite       Ice     NaN    304   55      69   \n",
      "789  713                    Avalugg       Ice     NaN    514   95     117   \n",
      "790  714                     Noibat    Flying  Dragon    245   40      30   \n",
      "791  715                    Noivern    Flying  Dragon    535   85      70   \n",
      "792  716                    Xerneas     Fairy     NaN    680  126     131   \n",
      "793  717                    Yveltal      Dark  Flying    680  126     131   \n",
      "794  718           Zygarde50% Forme    Dragon  Ground    600  108     100   \n",
      "795  719                    Diancie      Rock   Fairy    600   50     100   \n",
      "796  719        DiancieMega Diancie      Rock   Fairy    700   50     160   \n",
      "797  720        HoopaHoopa Confined   Psychic   Ghost    600   80     110   \n",
      "798  720         HoopaHoopa Unbound   Psychic    Dark    680   80     160   \n",
      "799  721                  Volcanion      Fire   Water    600   80     110   \n",
      "\n",
      "     Defense  Sp. Atk  Sp. Def  Speed  Generation  Legendary  \n",
      "0         49       65       65     45           1      False  \n",
      "1         63       80       80     60           1      False  \n",
      "2         83      100      100     80           1      False  \n",
      "3        123      122      120     80           1      False  \n",
      "4         43       60       50     65           1      False  \n",
      "5         58       80       65     80           1      False  \n",
      "6         78      109       85    100           1      False  \n",
      "7        111      130       85    100           1      False  \n",
      "8         78      159      115    100           1      False  \n",
      "9         65       50       64     43           1      False  \n",
      "10        80       65       80     58           1      False  \n",
      "11       100       85      105     78           1      False  \n",
      "12       120      135      115     78           1      False  \n",
      "13        35       20       20     45           1      False  \n",
      "14        55       25       25     30           1      False  \n",
      "15        50       90       80     70           1      False  \n",
      "16        30       20       20     50           1      False  \n",
      "17        50       25       25     35           1      False  \n",
      "18        40       45       80     75           1      False  \n",
      "19        40       15       80    145           1      False  \n",
      "20        40       35       35     56           1      False  \n",
      "21        55       50       50     71           1      False  \n",
      "22        75       70       70    101           1      False  \n",
      "23        80      135       80    121           1      False  \n",
      "24        35       25       35     72           1      False  \n",
      "25        60       50       70     97           1      False  \n",
      "26        30       31       31     70           1      False  \n",
      "27        65       61       61    100           1      False  \n",
      "28        44       40       54     55           1      False  \n",
      "29        69       65       79     80           1      False  \n",
      "..       ...      ...      ...    ...         ...        ...  \n",
      "770       65      110      130     60           6      False  \n",
      "771       75       74       63    118           6      False  \n",
      "772       57       81       67    101           6      False  \n",
      "773      150       50      150     50           6      False  \n",
      "774       35       55       75     40           6      False  \n",
      "775       53       83      113     60           6      False  \n",
      "776       70      110      150     80           6      False  \n",
      "777       91       80       87     75           6      False  \n",
      "778       48       50       60     38           6      False  \n",
      "779       76       65       82     56           6      False  \n",
      "780       70       44       55     51           6      False  \n",
      "781       70       44       55     56           6      False  \n",
      "782       70       44       55     46           6      False  \n",
      "783       70       44       55     41           6      False  \n",
      "784      122       58       75     84           6      False  \n",
      "785      122       58       75     99           6      False  \n",
      "786      122       58       75     69           6      False  \n",
      "787      122       58       75     54           6      False  \n",
      "788       85       32       35     28           6      False  \n",
      "789      184       44       46     28           6      False  \n",
      "790       35       45       40     55           6      False  \n",
      "791       80       97       80    123           6      False  \n",
      "792       95      131       98     99           6       True  \n",
      "793       95      131       98     99           6       True  \n",
      "794      121       81       95     95           6       True  \n",
      "795      150      100      150     50           6       True  \n",
      "796      110      160      110    110           6       True  \n",
      "797       60      150      130     70           6       True  \n",
      "798       60      170      130     80           6       True  \n",
      "799      120      130       90     70           6       True  \n",
      "\n",
      "[800 rows x 13 columns]\n"
     ]
    }
   ],
   "source": [
    "import numpy as np\n",
    "import pandas as pd\n",
    "import matplotlib.pyplot as plt\n",
    "\n",
    "df = pd.read_csv ('https://query.data.world/s/zpfwdyw2eisrcwdwnb44lcr5zb6vvs') \n",
    "print(df) "
   ]
  },
  {
   "cell_type": "markdown",
   "metadata": {},
   "source": [
    "The data can be downloaded through the link \"https://query.data.world/s/zpfwdyw2eisrcwdwnb44lcr5zb6vvs\". The contributor of the dataset is <b> Data Society </b>. The data is <b> Open </b> for use therefore no license is required to use the dataset.\n",
    "\n",
    "Lets find out more about the data"
   ]
  },
  {
   "cell_type": "markdown",
   "metadata": {},
   "source": [
    "We should start with basic and find out the <i> columns </i> in the dataset."
   ]
  },
  {
   "cell_type": "code",
   "execution_count": 7,
   "metadata": {},
   "outputs": [
    {
     "data": {
      "text/plain": [
       "['#',\n",
       " 'Name',\n",
       " 'Type 1',\n",
       " 'Type 2',\n",
       " 'Total',\n",
       " 'HP',\n",
       " 'Attack',\n",
       " 'Defense',\n",
       " 'Sp. Atk',\n",
       " 'Sp. Def',\n",
       " 'Speed',\n",
       " 'Generation',\n",
       " 'Legendary']"
      ]
     },
     "execution_count": 7,
     "metadata": {},
     "output_type": "execute_result"
    }
   ],
   "source": [
    "list(df)"
   ]
  },
  {
   "cell_type": "markdown",
   "metadata": {},
   "source": [
    "There are 13 columns. Including index, Name etc. We would discuss breifly what these columns represent. \n",
    "<ol>\n",
    "    <li> <b> #, Name: </b> The first 2 columns represent the index and the name of the Pokemon. </li>\n",
    "    <li> <b> Type 1, Type 2</b>: Pokemons can be categorised based on their types like Grass, Poison, Flying etc. The <i> Type 1 <i> attribute tells us about the primary type of the Pokemon. In cases of some Pokemons they have a dual nature and hence they have more than one type. This is represented using <i> Type 2 </i> </li>\n",
    "        <li><b> Total</b>: Total is the sum of all stats.</li>\n",
    "        \n",
    "<li><b>HP</b>: hit points, or health, defines how much damage a pokemon can withstand before fainting</li>\n",
    "\n",
    "<li><b>Attack</b>: the base modifier for normal attacks (eg. Scratch, Punch)</li>\n",
    "\n",
    "<li><b>Defense</b>: the base damage resistance against normal attacks</li>\n",
    "\n",
    "<li><b>SP Atk</b>: special attack, the base modifier for special attacks (e.g. fire blast, bubble beam)</li>\n",
    "\n",
    "<li><b>SP Def</b>: the base damage resistance against special attacks</li>\n",
    "\n",
    "<li><b>Speed</b>: determines which pokemon attacks first each round</li>\n",
    "    \n",
    " </ol>\n",
    " <i> Source: Data Society </i>"
   ]
  },
  {
   "cell_type": "markdown",
   "metadata": {},
   "source": [
    "Number of rows and columns :"
   ]
  },
  {
   "cell_type": "code",
   "execution_count": 8,
   "metadata": {},
   "outputs": [
    {
     "data": {
      "text/plain": [
       "(800, 13)"
      ]
     },
     "execution_count": 8,
     "metadata": {},
     "output_type": "execute_result"
    }
   ],
   "source": [
    "df.shape"
   ]
  },
  {
   "cell_type": "markdown",
   "metadata": {},
   "source": [
    "There are 800 rows and 13 columns. "
   ]
  },
  {
   "cell_type": "markdown",
   "metadata": {},
   "source": [
    "# Some Interesting facts"
   ]
  },
  {
   "cell_type": "markdown",
   "metadata": {},
   "source": [
    "I was interested in exploring how many unique attributes there are in <i> Type 1</i>, so I found out this: "
   ]
  },
  {
   "cell_type": "code",
   "execution_count": 9,
   "metadata": {},
   "outputs": [
    {
     "name": "stdout",
     "output_type": "stream",
     "text": [
      "['Grass' 'Fire' 'Water' 'Bug' 'Normal' 'Poison' 'Electric' 'Ground' 'Fairy'\n",
      " 'Fighting' 'Psychic' 'Rock' 'Ghost' 'Ice' 'Dragon' 'Dark' 'Steel' 'Flying']\n"
     ]
    }
   ],
   "source": [
    "df1= df['Type 1'].unique()\n",
    "print(df1)"
   ]
  },
  {
   "cell_type": "markdown",
   "metadata": {},
   "source": [
    "<i> There are 18 different primary types to classify the Pokemons and the number of Pokemons classified in them are: </i>"
   ]
  },
  {
   "cell_type": "code",
   "execution_count": 13,
   "metadata": {},
   "outputs": [
    {
     "data": {
      "text/plain": [
       "Fairy        17\n",
       "Ground       32\n",
       "Steel        27\n",
       "Grass        70\n",
       "Electric     44\n",
       "Psychic      57\n",
       "Flying        4\n",
       "Water       112\n",
       "Ice          24\n",
       "Poison       28\n",
       "Normal       98\n",
       "Fire         52\n",
       "Bug          69\n",
       "Fighting     27\n",
       "Dragon       32\n",
       "Dark         31\n",
       "Ghost        32\n",
       "Rock         44\n",
       "dtype: int64"
      ]
     },
     "execution_count": 13,
     "metadata": {},
     "output_type": "execute_result"
    }
   ],
   "source": [
    "pd.value_counts(df['Type 1'].values, sort=False)"
   ]
  },
  {
   "cell_type": "markdown",
   "metadata": {},
   "source": [
    "Total is the sum of all stats. Based on the <i> Total </i> stats, I found out what is the maximum and minimum stats for a pokemon. "
   ]
  },
  {
   "cell_type": "code",
   "execution_count": 11,
   "metadata": {},
   "outputs": [
    {
     "name": "stdout",
     "output_type": "stream",
     "text": [
      "The Maximum is 780\n",
      "The Minimum is 180\n"
     ]
    }
   ],
   "source": [
    "a = df['Total'].max()\n",
    "b = df['Total'].min()\n",
    "print( \"The Maximum is\", a )\n",
    "print( \"The Minimum is\", b )"
   ]
  },
  {
   "cell_type": "markdown",
   "metadata": {},
   "source": [
    "Another interesting fact was to find out how many pokemons just have <i> Type 1 </i> attribute. "
   ]
  },
  {
   "cell_type": "code",
   "execution_count": 12,
   "metadata": {},
   "outputs": [
    {
     "name": "stdout",
     "output_type": "stream",
     "text": [
      "The number Of pokemons which are just Type 1 are 386\n"
     ]
    }
   ],
   "source": [
    "print(\"The number Of pokemons which are just Type 1 are\", df['Type 2'].isnull().sum())"
   ]
  },
  {
   "cell_type": "markdown",
   "metadata": {},
   "source": [
    "# Information About the data types"
   ]
  },
  {
   "cell_type": "markdown",
   "metadata": {},
   "source": [
    "We can see the information about the data types and objects through:"
   ]
  },
  {
   "cell_type": "code",
   "execution_count": 14,
   "metadata": {},
   "outputs": [
    {
     "name": "stdout",
     "output_type": "stream",
     "text": [
      "<class 'pandas.core.frame.DataFrame'>\n",
      "RangeIndex: 800 entries, 0 to 799\n",
      "Data columns (total 13 columns):\n",
      "#             800 non-null int64\n",
      "Name          800 non-null object\n",
      "Type 1        800 non-null object\n",
      "Type 2        414 non-null object\n",
      "Total         800 non-null int64\n",
      "HP            800 non-null int64\n",
      "Attack        800 non-null int64\n",
      "Defense       800 non-null int64\n",
      "Sp. Atk       800 non-null int64\n",
      "Sp. Def       800 non-null int64\n",
      "Speed         800 non-null int64\n",
      "Generation    800 non-null int64\n",
      "Legendary     800 non-null bool\n",
      "dtypes: bool(1), int64(9), object(3)\n",
      "memory usage: 75.9+ KB\n"
     ]
    }
   ],
   "source": [
    "df.info()"
   ]
  },
  {
   "cell_type": "markdown",
   "metadata": {},
   "source": [
    "<b> Size Of the files </b> "
   ]
  },
  {
   "cell_type": "code",
   "execution_count": 15,
   "metadata": {},
   "outputs": [
    {
     "data": {
      "text/plain": [
       "77680"
      ]
     },
     "execution_count": 15,
     "metadata": {},
     "output_type": "execute_result"
    }
   ],
   "source": [
    "df.memory_usage(index= True).sum()"
   ]
  },
  {
   "cell_type": "markdown",
   "metadata": {},
   "source": [
    "The Memory usage is 77680 bytes. We can also see the data usage by every column: "
   ]
  },
  {
   "cell_type": "code",
   "execution_count": 16,
   "metadata": {},
   "outputs": [
    {
     "data": {
      "text/plain": [
       "Index           80\n",
       "#             6400\n",
       "Name          6400\n",
       "Type 1        6400\n",
       "Type 2        6400\n",
       "Total         6400\n",
       "HP            6400\n",
       "Attack        6400\n",
       "Defense       6400\n",
       "Sp. Atk       6400\n",
       "Sp. Def       6400\n",
       "Speed         6400\n",
       "Generation    6400\n",
       "Legendary      800\n",
       "dtype: int64"
      ]
     },
     "execution_count": 16,
     "metadata": {},
     "output_type": "execute_result"
    }
   ],
   "source": [
    "df.memory_usage(index= True)"
   ]
  },
  {
   "cell_type": "code",
   "execution_count": null,
   "metadata": {},
   "outputs": [],
   "source": []
  }
 ],
 "metadata": {
  "kernelspec": {
   "display_name": "Python 3",
   "language": "python",
   "name": "python3"
  },
  "language_info": {
   "codemirror_mode": {
    "name": "ipython",
    "version": 3
   },
   "file_extension": ".py",
   "mimetype": "text/x-python",
   "name": "python",
   "nbconvert_exporter": "python",
   "pygments_lexer": "ipython3",
   "version": "3.6.4"
  }
 },
 "nbformat": 4,
 "nbformat_minor": 2
}
